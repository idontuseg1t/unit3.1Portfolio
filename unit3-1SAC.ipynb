{
 "cells": [
  {
   "cell_type": "raw",
   "id": "6d275c01-d053-4155-b94d-4d2b382bf7ad",
   "metadata": {},
   "source": [
    "A shipping company needs a program to calculate the shipping cost of a package based on its weight. Packages that weigh less than or equal to 5kg cost $5 to ship, packages that weigh between 5kg and 10kg cost $10 to ship, and packages that weigh more than 10kg cost $15 to ship. Write a Python program that asks the user for the weight of the package and calculates the shipping cost based on the weight entered. The program should then display the shipping cost to the user.\n",
    "\n",
    "- input: weight\n",
    "- less than or equal to 5kg = $5\n",
    "- between 5kg and 10kg = 10$\n",
    "- more than 10kg = 15$"
   ]
  },
  {
   "cell_type": "code",
   "execution_count": null,
   "id": "4e7b812d-257a-4ba5-9786-02d4fb220d8c",
   "metadata": {},
   "outputs": [],
   "source": [
    "BEGIN\n",
    "    INPUT weight\n",
    "    \n",
    "    IF weight > 10 then:\n",
    "        RETURN $15\n",
    "    else if weight > 5 and weight <= 10 then:\n",
    "        RETURN $10\n",
    "    else:\n",
    "        RETURN $5\n",
    "    ENDIF\n",
    "\n",
    "END"
   ]
  },
  {
   "cell_type": "code",
   "execution_count": 14,
   "id": "ecda3188-1f3f-4523-89e0-e123f885c6db",
   "metadata": {
    "tags": []
   },
   "outputs": [
    {
     "name": "stdin",
     "output_type": "stream",
     "text": [
      "What is the weight of your package in kilograms?:  18\n"
     ]
    },
    {
     "name": "stdout",
     "output_type": "stream",
     "text": [
      "The shipping cost for a package weighing 18.0 kg is $15\n"
     ]
    }
   ],
   "source": [
    "def calcCost(weight):\n",
    "    if weight > 10: # if weight is more than 10 NOT INCLUDING 10\n",
    "        return \"$15\"\n",
    "    elif weight > 5 and weight <= 10: # if weight is more tha 5kg NOT INCLUDING 5 and less than 10 INCLUDING 10\n",
    "        return \"$10\"\n",
    "    else: # returns 5$ if the weight is less than or equal to 5\n",
    "        return \"$5\"\n",
    "\n",
    "w = float(input('What is the weight of your package in kilograms?: '))\n",
    "if w <= 0: # checking for invalid weights\n",
    "    print(\"That is an invalid weight\")\n",
    "else:\n",
    "    print(f\"The shipping cost for a package weighing {w} kg is {calcCost(w)}\")"
   ]
  },
  {
   "cell_type": "raw",
   "id": "d44bc7c5-e93c-4804-ae80-c23e91952756",
   "metadata": {},
   "source": [
    "The shipping company needs to determine a bulk rate of 8 packages. If the average is less than or equal to 5kg they get a discount rate of $4.50 to ship, average that weigh between 5kg and 10kg they get a discount rate of $9  to ship, and packages that weigh more than 10kg they get a discount rate of $14 to ship. Write a Python program that asks the user for a list of package weights, calculates the average of the list and displays the discounted cost to the user.\n",
    "\n"
   ]
  },
  {
   "cell_type": "raw",
   "id": "649398b1-4747-4adc-a4a5-c2cc1e7abdda",
   "metadata": {},
   "source": [
    "BEGIN\n",
    "    DEFINE function calcCost(weight):\n",
    "        if weight > 10 then: \n",
    "            return 15\n",
    "        else if weight > 5 and weight <= 10 then: \n",
    "            return 10\n",
    "        else: \n",
    "            return 5\n",
    "        ENDIF\n",
    "        \n",
    "    DEFINE function calcAverage(weights):\n",
    "        total <-- 0\n",
    "    for the number of items in weights:\n",
    "        total <-- total + item-no\n",
    "    ENDFOR\n",
    "    average <-- total/8\n",
    "    return average\n",
    "    \n",
    "\n",
    "    DEFINE function avgCost(avg):\n",
    "        if avg <= 5 then:\n",
    "            return 4.50\n",
    "        else if avg > 5 and avg <= 10 then:\n",
    "            return 9\n",
    "        else:\n",
    "            return 14\n",
    "        ENDIF\n",
    "\n",
    "END"
   ]
  },
  {
   "cell_type": "code",
   "execution_count": 27,
   "id": "011f7e10-ad4e-41a3-8975-f13192fd8f18",
   "metadata": {},
   "outputs": [
    {
     "name": "stdin",
     "output_type": "stream",
     "text": [
      "Weight of package 1:  2\n",
      "Weight of package 2:  3\n",
      "Weight of package 3:  2\n",
      "Weight of package 4:  2\n",
      "Weight of package 5:  2\n",
      "Weight of package 6:  3\n",
      "Weight of package 7:  2\n",
      "Weight of package 8:  3\n"
     ]
    },
    {
     "name": "stdout",
     "output_type": "stream",
     "text": [
      "The average weight of the 8 packages is 2.375kg.\n",
      "You get a discount of $4.5.\n",
      "Cost without discount: $40.0\n",
      "Cost with discount: $35.5\n"
     ]
    }
   ],
   "source": [
    "def calcCost(weight): # function for calculating costs of weights\n",
    "    if weight > 10: \n",
    "        return 15\n",
    "    elif weight > 5 and weight <= 10: \n",
    "        return 10\n",
    "    else: \n",
    "        return 5\n",
    "\n",
    "def calcAverage(weights): # function for calculating average of weights\n",
    "    total = 0\n",
    "    for x in weights:\n",
    "        total += x\n",
    "    average = float(total)/8\n",
    "    return average\n",
    "\n",
    "def avgCost(avg): # function for calculating the discount\n",
    "    \n",
    "    if avg <= 5:\n",
    "        return 4.50\n",
    "    elif avg > 5 and avg <= 10:\n",
    "        return 9\n",
    "    else:\n",
    "        return 14\n",
    "weightlist = []\n",
    "totalcost = 0\n",
    "for i in range(8):\n",
    "    w = float(input(f'Weight of package {i + 1}: '))\n",
    "    weightlist.append(w)\n",
    "    totalcost += float(calcCost(w))\n",
    "    i += 1\n",
    "    \n",
    "\n",
    "print(f\"The average weight of the 8 packages is {calcAverage(weightlist)}kg.\")\n",
    "print(f\"You get a discount of ${str(avgCost(calcAverage(weightlist)))}.\")\n",
    "print(f\"Cost without discount: ${totalcost}\")\n",
    "print(f\"Cost with discount: ${totalcost - float(avgCost(calcAverage(weightlist)))}\")\n"
   ]
  },
  {
   "cell_type": "raw",
   "id": "d70b1430-0a40-4019-a043-efb4f8f6ede3",
   "metadata": {},
   "source": [
    "Sect 3: The shipping company got a suggestion from their delivery drivers, Jessie & Ollie. They noticed the package deliveries overlapped. The point is Jessie’s delivery route is shorter. Ollie wants to know which deliveries to hand off to Jessie.\n",
    "\n",
    "NOTE: The numbers are location IDs\n",
    "Use this data to check your solution\n",
    "Jessie = [2,5,8,11,14,17,20,23,26,29]\n",
    "Ollie  = [1,3,5, 7, 9,11,13,15,17,19,21,24,26]\n",
    "\n",
    "Jessie = [1, 7, 8, 11, 12, 13, 14, 24, 26, 29]\n",
    "Ollie  = [2, 4, 7,  9, 10, 12, 14, 18, 19, 21, 24, 25, 29]\n"
   ]
  },
  {
   "cell_type": "raw",
   "id": "2b66daf5-5a57-4962-843c-9d68e623a7a7",
   "metadata": {},
   "source": [
    "BEGIN\n",
    "\n",
    "for each item in Ollie:\n",
    "    if that item is in Jessie then:\n",
    "        Return True\n",
    "    ENDIF\n",
    "ENDFOR\n",
    "        \n",
    "END"
   ]
  },
  {
   "cell_type": "code",
   "execution_count": 29,
   "id": "17370a0e-6673-4d63-ac00-bd85ac3f91b1",
   "metadata": {
    "tags": []
   },
   "outputs": [
    {
     "name": "stdout",
     "output_type": "stream",
     "text": [
      "Jessie can deliver the package at location 7\n",
      "Jessie can deliver the package at location 12\n",
      "Jessie can deliver the package at location 14\n",
      "Jessie can deliver the package at location 24\n",
      "Jessie can deliver the package at location 29\n"
     ]
    }
   ],
   "source": [
    "Jessie = [1, 7, 8, 11, 12, 13, 14, 24, 26, 29]\n",
    "Ollie  = [2, 4, 7,  9, 10, 12, 14, 18, 19, 21, 24, 25, 29]\n",
    "\n",
    "\n",
    "for num in Ollie:\n",
    "    if num in Jessie:\n",
    "        print(f\"Jessie can deliver the package at location {num}\")"
   ]
  },
  {
   "cell_type": "code",
   "execution_count": null,
   "id": "e8352d5f-5b38-4ee9-a2d2-12973b6a6472",
   "metadata": {},
   "outputs": [],
   "source": []
  }
 ],
 "metadata": {
  "kernelspec": {
   "display_name": "Python 3 (ipykernel)",
   "language": "python",
   "name": "python3"
  },
  "language_info": {
   "codemirror_mode": {
    "name": "ipython",
    "version": 3
   },
   "file_extension": ".py",
   "mimetype": "text/x-python",
   "name": "python",
   "nbconvert_exporter": "python",
   "pygments_lexer": "ipython3",
   "version": "3.10.9"
  }
 },
 "nbformat": 4,
 "nbformat_minor": 5
}
